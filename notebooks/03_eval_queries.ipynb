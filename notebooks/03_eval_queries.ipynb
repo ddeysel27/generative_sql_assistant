{
 "cells": [
  {
   "cell_type": "markdown",
   "id": "a9ea4450",
   "metadata": {},
   "source": [
    "### Look at the data AND expected outcomes"
   ]
  },
  {
   "cell_type": "code",
   "execution_count": null,
   "id": "a9f00e74",
   "metadata": {},
   "outputs": [
    {
     "name": "stdout",
     "output_type": "stream",
     "text": [
      "   MedInc  HouseAge  AveRooms  AveBedrms  Population  AveOccup  Latitude  \\\n",
      "0  8.3252      41.0  6.984127   1.023810       322.0  2.555556     37.88   \n",
      "1  8.3014      21.0  6.238137   0.971880      2401.0  2.109842     37.86   \n",
      "2  7.2574      52.0  8.288136   1.073446       496.0  2.802260     37.85   \n",
      "3  5.6431      52.0  5.817352   1.073059       558.0  2.547945     37.85   \n",
      "4  3.8462      52.0  6.281853   1.081081       565.0  2.181467     37.85   \n",
      "\n",
      "   Longitude  MedHouseVal  \n",
      "0    -122.23        4.526  \n",
      "1    -122.22        3.585  \n",
      "2    -122.24        3.521  \n",
      "3    -122.25        3.413  \n",
      "4    -122.25        3.422  \n",
      "['medinc', 'houseage', 'averooms', 'avebedrms', 'population', 'aveoccup', 'latitude', 'longitude', 'medhouseval']\n"
     ]
    }
   ],
   "source": [
    "# from local file\n",
    "import pandas as pd\n",
    "\n",
    "df = pd.read_csv(\"../data/housing.csv\")\n",
    "print(df.head())\n",
    "print(df.columns.str.lower().tolist())"
   ]
  },
  {
   "cell_type": "markdown",
   "id": "055116e9",
   "metadata": {},
   "source": [
    "### From SQLite DB"
   ]
  },
  {
   "cell_type": "code",
   "execution_count": null,
   "id": "f4f52899",
   "metadata": {},
   "outputs": [
    {
     "name": "stdout",
     "output_type": "stream",
     "text": [
      "-> Columns:\n",
      "   cid         name  type  notnull dflt_value  pk\n",
      "0    0       MedInc  REAL        0       None   0\n",
      "1    1     HouseAge  REAL        0       None   0\n",
      "2    2     AveRooms  REAL        0       None   0\n",
      "3    3    AveBedrms  REAL        0       None   0\n",
      "4    4   Population  REAL        0       None   0\n",
      "5    5     AveOccup  REAL        0       None   0\n",
      "6    6     Latitude  REAL        0       None   0\n",
      "7    7    Longitude  REAL        0       None   0\n",
      "8    8  MedHouseVal  REAL        0       None   0\n"
     ]
    }
   ],
   "source": [
    "import sqlite3, pandas as pd\n",
    "with sqlite3.connect(\"../data/housing.db\") as conn:\n",
    "    cols = pd.read_sql_query(\"PRAGMA table_info(housing);\", conn)\n",
    "    print(\"-> Columns:\")\n",
    "    print(cols)\n",
    "\n",
    "    head_df = pd.read_sql_query(\"SELECT * FROM housing LIMIT 10;\", conn)\n",
    "    print(\"-> First 10 rows:\")\n",
    "    print(head_df)\n"
   ]
  },
  {
   "cell_type": "markdown",
   "id": "3a3e471f",
   "metadata": {},
   "source": [
    "### Queries Evaluation"
   ]
  },
  {
   "cell_type": "code",
   "execution_count": 4,
   "id": "03ae6694",
   "metadata": {},
   "outputs": [
    {
     "name": "stdout",
     "output_type": "stream",
     "text": [
      "Average house age for blocks with MedInc > 5 and Latitude > 35 \n",
      " SELECT AVG(HouseAge) FROM housing WHERE MedInc > 5 AND Latitude > 35\n"
     ]
    },
    {
     "data": {
      "text/html": [
       "<div>\n",
       "<style scoped>\n",
       "    .dataframe tbody tr th:only-of-type {\n",
       "        vertical-align: middle;\n",
       "    }\n",
       "\n",
       "    .dataframe tbody tr th {\n",
       "        vertical-align: top;\n",
       "    }\n",
       "\n",
       "    .dataframe thead th {\n",
       "        text-align: right;\n",
       "    }\n",
       "</style>\n",
       "<table border=\"1\" class=\"dataframe\">\n",
       "  <thead>\n",
       "    <tr style=\"text-align: right;\">\n",
       "      <th></th>\n",
       "      <th>AVG(HouseAge)</th>\n",
       "    </tr>\n",
       "  </thead>\n",
       "  <tbody>\n",
       "    <tr>\n",
       "      <th>0</th>\n",
       "      <td>26.026718</td>\n",
       "    </tr>\n",
       "  </tbody>\n",
       "</table>\n",
       "</div>"
      ],
      "text/plain": [
       "   AVG(HouseAge)\n",
       "0      26.026718"
      ]
     },
     "execution_count": 4,
     "metadata": {},
     "output_type": "execute_result"
    }
   ],
   "source": [
    "import sqlite3, pandas as pd\n",
    "with sqlite3.connect(\"../data/housing.db\") as conn:\n",
    "    hist = pd.read_sql_query(\n",
    "        \"SELECT ts, question, sql FROM query_history ORDER BY ts DESC LIMIT 1\", conn\n",
    "    )\n",
    "last_q, last_sql = hist.loc[0, \"question\"], hist.loc[0, \"sql\"]\n",
    "print(last_q, \"\\n\", last_sql)\n",
    "\n",
    "df = pd.read_sql_query(last_sql, conn)\n",
    "df.head()"
   ]
  }
 ],
 "metadata": {
  "kernelspec": {
   "display_name": ".venv (3.12.0)",
   "language": "python",
   "name": "python3"
  },
  "language_info": {
   "codemirror_mode": {
    "name": "ipython",
    "version": 3
   },
   "file_extension": ".py",
   "mimetype": "text/x-python",
   "name": "python",
   "nbconvert_exporter": "python",
   "pygments_lexer": "ipython3",
   "version": "3.12.0"
  }
 },
 "nbformat": 4,
 "nbformat_minor": 5
}
