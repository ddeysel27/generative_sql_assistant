{
 "cells": [
  {
   "cell_type": "code",
   "execution_count": null,
   "id": "1f739afb",
   "metadata": {},
   "outputs": [],
   "source": [
    "import pandas as pd\n",
    "import sqlite3\n",
    "\n",
    "# load the csv file into a pandas DataFrame\n",
    "df = pd.read_csv('data/housing.csv')\n",
    "\n",
    "# create a sqlite database (or connect to one if it exists)\n",
    "conn = sqlite3.connect('data/housing.db')\n",
    "\n",
    "# save table\n",
    "df.to_sql('housing', conn, if_exists='replace', index=False)\n",
    "\n",
    "conn.close()\n",
    "print(\"✅ Saved to data/housing.db (table: housing_data)\")"
   ]
  }
 ],
 "metadata": {
  "language_info": {
   "name": "python"
  }
 },
 "nbformat": 4,
 "nbformat_minor": 5
}
